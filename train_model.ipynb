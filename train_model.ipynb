{
 "cells": [
  {
   "cell_type": "code",
   "execution_count": 10,
   "id": "7644d682-34e3-40f1-bf4c-9764e4e3e4d5",
   "metadata": {},
   "outputs": [
    {
     "name": "stdout",
     "output_type": "stream",
     "text": [
      "✅ Model and scaler saved!\n"
     ]
    }
   ],
   "source": [
    "import pandas as pd\n",
    "import numpy as np\n",
    "from sklearn.model_selection import train_test_split\n",
    "from sklearn.preprocessing import StandardScaler\n",
    "from sklearn.ensemble import RandomForestRegressor\n",
    "import pickle\n",
    "\n",
    "# Example dataset (replace with real CSV)\n",
    "data = pd.DataFrame({\n",
    "    \"Bedrooms\": [2,3,4,3,5,2,4,3],\n",
    "    \"Bathrooms\": [1,2,3,2,4,1,3,2],\n",
    "    \"Size_sqft\": [1000,1500,2000,1700,2500,900,2100,1600],\n",
    "    \"Price\": [5000000,7500000,10000000,8000000,15000000,4500000,11000000,7800000]\n",
    "})\n",
    "\n",
    "X = data[[\"Bedrooms\", \"Bathrooms\", \"Size_sqft\"]]\n",
    "y = data[\"Price\"]\n",
    "\n",
    "# Split\n",
    "X_train, X_test, y_train, y_test = train_test_split(X, y, test_size=0.2, random_state=42)\n",
    "\n",
    "# Scale\n",
    "scaler = StandardScaler()\n",
    "X_train_scaled = scaler.fit_transform(X_train)\n",
    "X_test_scaled = scaler.transform(X_test)\n",
    "\n",
    "# Model\n",
    "model = RandomForestRegressor(n_estimators=100, random_state=42)\n",
    "model.fit(X_train_scaled, y_train)\n",
    "\n",
    "# Save model & scaler\n",
    "pickle.dump(model, open(\"model.pkl\", \"wb\"))\n",
    "pickle.dump(scaler, open(\"scaler.pkl\", \"wb\"))\n",
    "\n",
    "print(\"✅ Model and scaler saved!\")\n"
   ]
  },
  {
   "cell_type": "code",
   "execution_count": null,
   "id": "349b974c-245b-4a29-8b67-b9408824d60a",
   "metadata": {},
   "outputs": [],
   "source": []
  }
 ],
 "metadata": {
  "kernelspec": {
   "display_name": "Python [conda env:base] *",
   "language": "python",
   "name": "conda-base-py"
  },
  "language_info": {
   "codemirror_mode": {
    "name": "ipython",
    "version": 3
   },
   "file_extension": ".py",
   "mimetype": "text/x-python",
   "name": "python",
   "nbconvert_exporter": "python",
   "pygments_lexer": "ipython3",
   "version": "3.13.5"
  }
 },
 "nbformat": 4,
 "nbformat_minor": 5
}
